{
 "cells": [
  {
   "cell_type": "code",
   "execution_count": 2,
   "metadata": {
    "collapsed": true
   },
   "outputs": [],
   "source": [
    "import pandas as pd\n",
    "import numpy as np\n",
    "import string"
   ]
  },
  {
   "cell_type": "markdown",
   "metadata": {},
   "source": [
    "## pandas之Series创建\n",
    "\n",
    " series:序列的意思  一维的数组"
   ]
  },
  {
   "cell_type": "code",
   "execution_count": 4,
   "metadata": {},
   "outputs": [],
   "source": [
    "t = pd.Series(np.arange(10),index=list(string.ascii_uppercase[:10]))\n",
    "# 第一列就是index"
   ]
  },
  {
   "cell_type": "code",
   "execution_count": 5,
   "metadata": {},
   "outputs": [
    {
     "data": {
      "text/plain": [
       "A    0\n",
       "B    1\n",
       "C    2\n",
       "D    3\n",
       "E    4\n",
       "F    5\n",
       "G    6\n",
       "H    7\n",
       "I    8\n",
       "J    9\n",
       "dtype: int32"
      ]
     },
     "execution_count": 5,
     "metadata": {},
     "output_type": "execute_result"
    }
   ],
   "source": [
    "t"
   ]
  },
  {
   "cell_type": "markdown",
   "metadata": {
    "collapsed": true
   },
   "source": [
    "## pandas之Series切片和索引"
   ]
  },
  {
   "cell_type": "code",
   "execution_count": 4,
   "metadata": {},
   "outputs": [
    {
     "data": {
      "text/plain": [
       "C    2\n",
       "E    4\n",
       "G    6\n",
       "I    8\n",
       "dtype: int32"
      ]
     },
     "execution_count": 4,
     "metadata": {},
     "output_type": "execute_result"
    }
   ],
   "source": [
    "t[2:10:2]"
   ]
  },
  {
   "cell_type": "code",
   "execution_count": 5,
   "metadata": {},
   "outputs": [
    {
     "data": {
      "text/plain": [
       "1"
      ]
     },
     "execution_count": 5,
     "metadata": {},
     "output_type": "execute_result"
    }
   ],
   "source": [
    "t[1]"
   ]
  },
  {
   "cell_type": "code",
   "execution_count": 7,
   "metadata": {},
   "outputs": [
    {
     "data": {
      "text/plain": [
       "C    2\n",
       "D    3\n",
       "G    6\n",
       "dtype: int32"
      ]
     },
     "execution_count": 7,
     "metadata": {},
     "output_type": "execute_result"
    }
   ],
   "source": [
    "t[[2,3,6]]"
   ]
  },
  {
   "cell_type": "code",
   "execution_count": 8,
   "metadata": {},
   "outputs": [
    {
     "data": {
      "text/plain": [
       "F    5\n",
       "G    6\n",
       "H    7\n",
       "I    8\n",
       "J    9\n",
       "dtype: int32"
      ]
     },
     "execution_count": 8,
     "metadata": {},
     "output_type": "execute_result"
    }
   ],
   "source": [
    "t[t>4]"
   ]
  },
  {
   "cell_type": "code",
   "execution_count": 10,
   "metadata": {},
   "outputs": [
    {
     "data": {
      "text/plain": [
       "A    0.0\n",
       "F    5.0\n",
       "g    NaN\n",
       "dtype: float64"
      ]
     },
     "execution_count": 10,
     "metadata": {},
     "output_type": "execute_result"
    }
   ],
   "source": [
    "t[[\"A\",\"F\",\"g\"]]"
   ]
  },
  {
   "cell_type": "markdown",
   "metadata": {},
   "source": [
    "## pandas之Series的索引和值"
   ]
  },
  {
   "cell_type": "code",
   "execution_count": 12,
   "metadata": {},
   "outputs": [
    {
     "data": {
      "text/plain": [
       "Index(['A', 'B', 'C', 'D', 'E', 'F', 'G', 'H', 'I', 'J'], dtype='object')"
      ]
     },
     "execution_count": 12,
     "metadata": {},
     "output_type": "execute_result"
    }
   ],
   "source": [
    "t.index"
   ]
  },
  {
   "cell_type": "code",
   "execution_count": 13,
   "metadata": {},
   "outputs": [
    {
     "data": {
      "text/plain": [
       "array([0, 1, 2, 3, 4, 5, 6, 7, 8, 9])"
      ]
     },
     "execution_count": 13,
     "metadata": {},
     "output_type": "execute_result"
    }
   ],
   "source": [
    "t.values"
   ]
  },
  {
   "cell_type": "code",
   "execution_count": 14,
   "metadata": {},
   "outputs": [
    {
     "data": {
      "text/plain": [
       "dtype('int32')"
      ]
     },
     "execution_count": 14,
     "metadata": {},
     "output_type": "execute_result"
    }
   ],
   "source": [
    "t.dtype"
   ]
  },
  {
   "cell_type": "code",
   "execution_count": 15,
   "metadata": {},
   "outputs": [
    {
     "data": {
      "text/plain": [
       "pandas.core.series.Series"
      ]
     },
     "execution_count": 15,
     "metadata": {},
     "output_type": "execute_result"
    }
   ],
   "source": [
    "type(t)"
   ]
  },
  {
   "cell_type": "code",
   "execution_count": 18,
   "metadata": {},
   "outputs": [
    {
     "data": {
      "text/plain": [
       "A    0\n",
       "B    1\n",
       "C    2\n",
       "D    3\n",
       "E    4\n",
       "F    5\n",
       "G    6\n",
       "H    7\n",
       "I    8\n",
       "J    9\n",
       "dtype: int32"
      ]
     },
     "execution_count": 18,
     "metadata": {},
     "output_type": "execute_result"
    }
   ],
   "source": [
    "t"
   ]
  },
  {
   "cell_type": "code",
   "execution_count": 17,
   "metadata": {},
   "outputs": [
    {
     "data": {
      "text/plain": [
       "A    1\n",
       "B    1\n",
       "C    1\n",
       "D    1\n",
       "E    1\n",
       "F    1\n",
       "G    6\n",
       "H    7\n",
       "I    8\n",
       "J    9\n",
       "dtype: int32"
      ]
     },
     "execution_count": 17,
     "metadata": {},
     "output_type": "execute_result"
    }
   ],
   "source": [
    "t.where(t>5,1)"
   ]
  },
  {
   "cell_type": "markdown",
   "metadata": {},
   "source": [
    "## pandas之读取外部数据"
   ]
  },
  {
   "cell_type": "markdown",
   "metadata": {},
   "source": [
    "### 读取csv"
   ]
  },
  {
   "cell_type": "code",
   "execution_count": 21,
   "metadata": {},
   "outputs": [
    {
     "data": {
      "text/html": [
       "<div>\n",
       "<style>\n",
       "    .dataframe thead tr:only-child th {\n",
       "        text-align: right;\n",
       "    }\n",
       "\n",
       "    .dataframe thead th {\n",
       "        text-align: left;\n",
       "    }\n",
       "\n",
       "    .dataframe tbody tr th {\n",
       "        vertical-align: top;\n",
       "    }\n",
       "</style>\n",
       "<table border=\"1\" class=\"dataframe\">\n",
       "  <thead>\n",
       "    <tr style=\"text-align: right;\">\n",
       "      <th></th>\n",
       "      <th>Row_Labels</th>\n",
       "      <th>Count_AnimalName</th>\n",
       "    </tr>\n",
       "  </thead>\n",
       "  <tbody>\n",
       "    <tr>\n",
       "      <th>2660</th>\n",
       "      <td>CHARLIE</td>\n",
       "      <td>856</td>\n",
       "    </tr>\n",
       "    <tr>\n",
       "      <th>3251</th>\n",
       "      <td>COCO</td>\n",
       "      <td>852</td>\n",
       "    </tr>\n",
       "    <tr>\n",
       "      <th>12368</th>\n",
       "      <td>ROCKY</td>\n",
       "      <td>823</td>\n",
       "    </tr>\n",
       "  </tbody>\n",
       "</table>\n",
       "</div>"
      ],
      "text/plain": [
       "      Row_Labels  Count_AnimalName\n",
       "2660     CHARLIE               856\n",
       "3251        COCO               852\n",
       "12368      ROCKY               823"
      ]
     },
     "execution_count": 21,
     "metadata": {},
     "output_type": "execute_result"
    }
   ],
   "source": [
    "import pandas as pd\n",
    "\n",
    "#pandas读取csv中的文件\n",
    "df = pd.read_csv(\"./dogNames2.csv\")\n",
    "df[(800<df[\"Count_AnimalName\"])&(df[\"Count_AnimalName\"]<1000)]"
   ]
  },
  {
   "cell_type": "markdown",
   "metadata": {},
   "source": [
    "### 读取Mongodb数据"
   ]
  },
  {
   "cell_type": "code",
   "execution_count": 33,
   "metadata": {
    "collapsed": true
   },
   "outputs": [],
   "source": [
    "from pymongo import MongoClient\n",
    "import pandas as pd\n",
    "\n",
    "\n",
    "client = MongoClient()\n",
    "collection = client[\"lagou\"][\"python_position\"]\n",
    "data = collection.find()\n",
    "def read_data(data):\n",
    "    data_list = []\n",
    "    for i in data:\n",
    "        temp = {}\n",
    "        temp[\"positionName\"]= i[\"positionName\"]\n",
    "        temp[\"city\"] = i[\"city\"]\n",
    "        temp[\"salary\"] = i[\"salary\"]\n",
    "        temp[\"companyFullName\"] = i[\"companyFullName\"]\n",
    "        data_list.append(temp)\n",
    "    return data_list"
   ]
  },
  {
   "cell_type": "code",
   "execution_count": 1,
   "metadata": {},
   "outputs": [],
   "source": [
    "# t1 = data[0]\n",
    "# t1 = pd.Series(t1)\n",
    "# print(t1)\n",
    "# data_list = read_data(data)\n",
    "# data_list"
   ]
  },
  {
   "cell_type": "markdown",
   "metadata": {},
   "source": [
    "## pandas之DataFrame"
   ]
  },
  {
   "cell_type": "code",
   "execution_count": 35,
   "metadata": {
    "collapsed": true
   },
   "outputs": [],
   "source": [
    "t = pd.DataFrame(np.arange(12).reshape((3,4)))"
   ]
  },
  {
   "cell_type": "code",
   "execution_count": 37,
   "metadata": {},
   "outputs": [
    {
     "data": {
      "text/plain": [
       "(RangeIndex(start=0, stop=3, step=1), RangeIndex(start=0, stop=4, step=1))"
      ]
     },
     "execution_count": 37,
     "metadata": {},
     "output_type": "execute_result"
    }
   ],
   "source": [
    "t.index,t.columns"
   ]
  },
  {
   "cell_type": "code",
   "execution_count": 38,
   "metadata": {
    "collapsed": true
   },
   "outputs": [],
   "source": [
    "t1 = pd.DataFrame(np.arange(12).reshape((3,4)),index=list(string.ascii_uppercase[:3]),\n",
    "                 columns=list(string.ascii_uppercase[-4:]))"
   ]
  },
  {
   "cell_type": "code",
   "execution_count": 39,
   "metadata": {},
   "outputs": [
    {
     "data": {
      "text/html": [
       "<div>\n",
       "<style>\n",
       "    .dataframe thead tr:only-child th {\n",
       "        text-align: right;\n",
       "    }\n",
       "\n",
       "    .dataframe thead th {\n",
       "        text-align: left;\n",
       "    }\n",
       "\n",
       "    .dataframe tbody tr th {\n",
       "        vertical-align: top;\n",
       "    }\n",
       "</style>\n",
       "<table border=\"1\" class=\"dataframe\">\n",
       "  <thead>\n",
       "    <tr style=\"text-align: right;\">\n",
       "      <th></th>\n",
       "      <th>W</th>\n",
       "      <th>X</th>\n",
       "      <th>Y</th>\n",
       "      <th>Z</th>\n",
       "    </tr>\n",
       "  </thead>\n",
       "  <tbody>\n",
       "    <tr>\n",
       "      <th>A</th>\n",
       "      <td>0</td>\n",
       "      <td>1</td>\n",
       "      <td>2</td>\n",
       "      <td>3</td>\n",
       "    </tr>\n",
       "    <tr>\n",
       "      <th>B</th>\n",
       "      <td>4</td>\n",
       "      <td>5</td>\n",
       "      <td>6</td>\n",
       "      <td>7</td>\n",
       "    </tr>\n",
       "    <tr>\n",
       "      <th>C</th>\n",
       "      <td>8</td>\n",
       "      <td>9</td>\n",
       "      <td>10</td>\n",
       "      <td>11</td>\n",
       "    </tr>\n",
       "  </tbody>\n",
       "</table>\n",
       "</div>"
      ],
      "text/plain": [
       "   W  X   Y   Z\n",
       "A  0  1   2   3\n",
       "B  4  5   6   7\n",
       "C  8  9  10  11"
      ]
     },
     "execution_count": 39,
     "metadata": {},
     "output_type": "execute_result"
    }
   ],
   "source": [
    "t1"
   ]
  },
  {
   "cell_type": "markdown",
   "metadata": {},
   "source": [
    "###  DataFrame和Series有什么关系呢？  "
   ]
  },
  {
   "cell_type": "markdown",
   "metadata": {},
   "source": [
    "### DataFrame数据基本信息的查询"
   ]
  },
  {
   "cell_type": "code",
   "execution_count": 41,
   "metadata": {},
   "outputs": [
    {
     "data": {
      "text/html": [
       "<div>\n",
       "<style>\n",
       "    .dataframe thead tr:only-child th {\n",
       "        text-align: right;\n",
       "    }\n",
       "\n",
       "    .dataframe thead th {\n",
       "        text-align: left;\n",
       "    }\n",
       "\n",
       "    .dataframe tbody tr th {\n",
       "        vertical-align: top;\n",
       "    }\n",
       "</style>\n",
       "<table border=\"1\" class=\"dataframe\">\n",
       "  <thead>\n",
       "    <tr style=\"text-align: right;\">\n",
       "      <th></th>\n",
       "      <th>city</th>\n",
       "      <th>companyFullName</th>\n",
       "      <th>positionName</th>\n",
       "      <th>salary</th>\n",
       "    </tr>\n",
       "  </thead>\n",
       "  <tbody>\n",
       "    <tr>\n",
       "      <th>0</th>\n",
       "      <td>北京</td>\n",
       "      <td>人人行科技有限公司</td>\n",
       "      <td>python开发</td>\n",
       "      <td>15k-20k</td>\n",
       "    </tr>\n",
       "    <tr>\n",
       "      <th>1</th>\n",
       "      <td>北京</td>\n",
       "      <td>北京磁力信科技有限公司</td>\n",
       "      <td>Python开发工程师</td>\n",
       "      <td>12k-24k</td>\n",
       "    </tr>\n",
       "    <tr>\n",
       "      <th>2</th>\n",
       "      <td>武汉</td>\n",
       "      <td>武汉佰钧成技术有限责任公司</td>\n",
       "      <td>python软件开发工程师</td>\n",
       "      <td>6k-12k</td>\n",
       "    </tr>\n",
       "    <tr>\n",
       "      <th>3</th>\n",
       "      <td>上海</td>\n",
       "      <td>上海彩亿信息技术有限公司</td>\n",
       "      <td>Python开发</td>\n",
       "      <td>14k-25k</td>\n",
       "    </tr>\n",
       "    <tr>\n",
       "      <th>4</th>\n",
       "      <td>上海</td>\n",
       "      <td>上海魔芋网络科技有限公司</td>\n",
       "      <td>python开发工程师</td>\n",
       "      <td>15k-25k</td>\n",
       "    </tr>\n",
       "  </tbody>\n",
       "</table>\n",
       "</div>"
      ],
      "text/plain": [
       "  city companyFullName   positionName   salary\n",
       "0   北京       人人行科技有限公司       python开发  15k-20k\n",
       "1   北京     北京磁力信科技有限公司    Python开发工程师  12k-24k\n",
       "2   武汉   武汉佰钧成技术有限责任公司  python软件开发工程师   6k-12k\n",
       "3   上海    上海彩亿信息技术有限公司       Python开发  14k-25k\n",
       "4   上海    上海魔芋网络科技有限公司    python开发工程师  15k-25k"
      ]
     },
     "execution_count": 41,
     "metadata": {},
     "output_type": "execute_result"
    }
   ],
   "source": [
    "df = pd.DataFrame(data_list)\n",
    "# print(df)\n",
    "df.head()"
   ]
  },
  {
   "cell_type": "code",
   "execution_count": 47,
   "metadata": {},
   "outputs": [
    {
     "data": {
      "text/plain": [
       "((1849, 4), city               object\n",
       " companyFullName    object\n",
       " positionName       object\n",
       " salary             object\n",
       " dtype: object, 2, RangeIndex(start=0, stop=1849, step=1), Index(['city', 'companyFullName', 'positionName', 'salary'], dtype='object'), array([['北京', '人人行科技有限公司', 'python开发', '15k-20k'],\n",
       "        ['北京', '北京磁力信科技有限公司', 'Python开发工程师', '12k-24k'],\n",
       "        ['武汉', '武汉佰钧成技术有限责任公司', 'python软件开发工程师', '6k-12k'],\n",
       "        ...,\n",
       "        ['北京', '北京欧特欧国际咨询有限公司', '高级python（爬虫方向）', '18k-32k'],\n",
       "        ['深圳', '深圳市云之梦科技有限公司', '后台开发工程师（C++,PYTHON,GO）', '10k-15k'],\n",
       "        ['深圳', '深圳市观麦网络科技有限公司', 'python后台开发工程师', '10k-18k']], dtype=object))"
      ]
     },
     "execution_count": 47,
     "metadata": {},
     "output_type": "execute_result"
    }
   ],
   "source": [
    "df.shape,df.dtypes,df.ndim,df.index,df.columns,df.values"
   ]
  },
  {
   "cell_type": "code",
   "execution_count": 30,
   "metadata": {},
   "outputs": [
    {
     "name": "stdout",
     "output_type": "stream",
     "text": [
      "  city companyFullName   positionName   salary\n",
      "0   北京       人人行科技有限公司       python开发  15k-20k\n",
      "1   北京     北京磁力信科技有限公司    Python开发工程师  12k-24k\n",
      "2   武汉   武汉佰钧成技术有限责任公司  python软件开发工程师   6k-12k\n",
      "3   上海    上海彩亿信息技术有限公司       Python开发  14k-25k\n",
      "4   上海    上海魔芋网络科技有限公司    python开发工程师  15k-25k\n"
     ]
    }
   ],
   "source": [
    "#显示头几行\n",
    "print(df.head())\n",
    "# print(\"*\"*100)\n",
    "# print(df.tail(2))\n",
    "\n",
    "#展示df的概览\n",
    "# print(df.info())\n",
    "# print(df.describe())"
   ]
  },
  {
   "cell_type": "code",
   "execution_count": 31,
   "metadata": {},
   "outputs": [
    {
     "name": "stdout",
     "output_type": "stream",
     "text": [
      "                        _id city companyFullName  companyId createTime  \\\n",
      "0  5b1ff488ecde2d53761a6b2f   北京       人人行科技有限公司      61921   昨天 10:20   \n",
      "1  5b1ff488ecde2d53761a6b31   北京     北京磁力信科技有限公司     145485   昨天 16:00   \n",
      "2  5b1ff488ecde2d53761a6b33   武汉   武汉佰钧成技术有限责任公司      16831   昨天 17:02   \n",
      "3  5b1ff488ecde2d53761a6b35   上海    上海彩亿信息技术有限公司       1738   昨天 11:39   \n",
      "4  5b1ff488ecde2d53761a6b37   上海    上海魔芋网络科技有限公司      45527   昨天 10:01   \n",
      "\n",
      "   positionId   positionName   salary  \n",
      "0     4593934       python开发  15k-20k  \n",
      "1     4613250    Python开发工程师  12k-24k  \n",
      "2     4715093  python软件开发工程师   6k-12k  \n",
      "3     4711628       Python开发  14k-25k  \n",
      "4     4337571    python开发工程师  15k-25k  \n"
     ]
    }
   ],
   "source": [
    "# 一种更简便的读取mongo数据的方法\n",
    "df1 = pd.DataFrame(list(collection.find()))\n",
    "print(df1.head())"
   ]
  },
  {
   "cell_type": "markdown",
   "metadata": {},
   "source": [
    "### DataFrame之排序"
   ]
  },
  {
   "cell_type": "code",
   "execution_count": 53,
   "metadata": {},
   "outputs": [
    {
     "name": "stdout",
     "output_type": "stream",
     "text": [
      "          0         1         2         3         4\n",
      "0  0.975777  0.726605  0.017394 -0.641456  0.620209\n",
      "1  0.087053  0.175404 -2.113655 -0.414275  0.136903\n",
      "2 -1.042724 -1.043409 -1.513828  0.338106  0.086272\n",
      "3  0.484030  0.896915  0.017717  1.120482  0.871907\n",
      "          0         1         2         3         4\n",
      "2 -1.042724 -1.043409 -1.513828  0.338106  0.086272\n",
      "1  0.087053  0.175404 -2.113655 -0.414275  0.136903\n",
      "0  0.975777  0.726605  0.017394 -0.641456  0.620209\n",
      "3  0.484030  0.896915  0.017717  1.120482  0.871907\n"
     ]
    }
   ],
   "source": [
    "df1 = pd.DataFrame(np.random.randn(4,5))\n",
    "print(df1)\n",
    "df2 = df1.sort_values(by=[1])\n",
    "print(df2)"
   ]
  },
  {
   "cell_type": "code",
   "execution_count": 55,
   "metadata": {},
   "outputs": [
    {
     "data": {
      "text/html": [
       "<div>\n",
       "<style>\n",
       "    .dataframe thead tr:only-child th {\n",
       "        text-align: right;\n",
       "    }\n",
       "\n",
       "    .dataframe thead th {\n",
       "        text-align: left;\n",
       "    }\n",
       "\n",
       "    .dataframe tbody tr th {\n",
       "        vertical-align: top;\n",
       "    }\n",
       "</style>\n",
       "<table border=\"1\" class=\"dataframe\">\n",
       "  <thead>\n",
       "    <tr style=\"text-align: right;\">\n",
       "      <th></th>\n",
       "      <th>Row_Labels</th>\n",
       "      <th>Count_AnimalName</th>\n",
       "    </tr>\n",
       "  </thead>\n",
       "  <tbody>\n",
       "    <tr>\n",
       "      <th>1156</th>\n",
       "      <td>BELLA</td>\n",
       "      <td>1195</td>\n",
       "    </tr>\n",
       "    <tr>\n",
       "      <th>9140</th>\n",
       "      <td>MAX</td>\n",
       "      <td>1153</td>\n",
       "    </tr>\n",
       "    <tr>\n",
       "      <th>2660</th>\n",
       "      <td>CHARLIE</td>\n",
       "      <td>856</td>\n",
       "    </tr>\n",
       "    <tr>\n",
       "      <th>3251</th>\n",
       "      <td>COCO</td>\n",
       "      <td>852</td>\n",
       "    </tr>\n",
       "    <tr>\n",
       "      <th>12368</th>\n",
       "      <td>ROCKY</td>\n",
       "      <td>823</td>\n",
       "    </tr>\n",
       "  </tbody>\n",
       "</table>\n",
       "</div>"
      ],
      "text/plain": [
       "      Row_Labels  Count_AnimalName\n",
       "1156       BELLA              1195\n",
       "9140         MAX              1153\n",
       "2660     CHARLIE               856\n",
       "3251        COCO               852\n",
       "12368      ROCKY               823"
      ]
     },
     "execution_count": 55,
     "metadata": {},
     "output_type": "execute_result"
    }
   ],
   "source": [
    "# coding=utf-8\n",
    "import pandas as pd\n",
    "import numpy as np\n",
    "\n",
    "df = pd.read_csv(\"./dogNames2.csv\")\n",
    "# print(df.head())\n",
    "# print(df.info())\n",
    "\n",
    "#dataFrame中排序的方法\n",
    "df = df.sort_values(by=\"Count_AnimalName\",ascending=False)\n",
    "# print(df.head(5))\n",
    "df.head()"
   ]
  },
  {
   "cell_type": "markdown",
   "metadata": {},
   "source": [
    "### pandas之取行或者列\n",
    "刚刚我们知道了如何给数据按照某一行或者列排序，那么现在我们想单独研究使用次数前100的数据，应该如何做？  \n",
    "\n",
    "df_sorted = df.sort_values(by=\"Count_AnimalName\")\n",
    "df_sorted[:100]\n",
    "\n",
    "\n",
    "那么问题来了：\n",
    "我们具体要选择某一列该怎么选择呢？df[\" Count_AnimalName \"]  \n",
    "\n",
    "我们要同时选择行和列该怎么办？df[:100][\" Count_AnimalName \"]"
   ]
  },
  {
   "cell_type": "code",
   "execution_count": 56,
   "metadata": {},
   "outputs": [
    {
     "name": "stdout",
     "output_type": "stream",
     "text": [
      "      Row_Labels  Count_AnimalName\n",
      "1156       BELLA              1195\n",
      "9140         MAX              1153\n",
      "2660     CHARLIE               856\n",
      "3251        COCO               852\n",
      "12368      ROCKY               823\n",
      "8417        LOLA               795\n",
      "8552       LUCKY               723\n",
      "8560        LUCY               710\n",
      "2032       BUDDY               677\n",
      "3641       DAISY               649\n",
      "11703   PRINCESS               603\n",
      "829       BAILEY               532\n",
      "9766       MOLLY               519\n",
      "14466      TEDDY               485\n",
      "2913       CHLOE               465\n",
      "14779       TOBY               446\n",
      "8620        LUNA               432\n",
      "6515        JACK               425\n",
      "8788      MAGGIE               393\n",
      "13762     SOPHIE               383\n",
      "1156              BELLA\n",
      "9140                MAX\n",
      "2660            CHARLIE\n",
      "3251               COCO\n",
      "12368             ROCKY\n",
      "8417               LOLA\n",
      "8552              LUCKY\n",
      "8560               LUCY\n",
      "2032              BUDDY\n",
      "3641              DAISY\n",
      "11703          PRINCESS\n",
      "829              BAILEY\n",
      "9766              MOLLY\n",
      "14466             TEDDY\n",
      "2913              CHLOE\n",
      "14779              TOBY\n",
      "8620               LUNA\n",
      "6515               JACK\n",
      "8788             MAGGIE\n",
      "13762            SOPHIE\n",
      "10750              OREO\n",
      "8296               LILY\n",
      "10696            OLIVER\n",
      "9552               MILO\n",
      "5531              GIZMO\n",
      "7945               LADY\n",
      "5468             GINGER\n",
      "9425                MIA\n",
      "11155             PENNY\n",
      "12548              RUBY\n",
      "              ...      \n",
      "6927               JOIA\n",
      "6932               JOKO\n",
      "6933              JOLEE\n",
      "6934             JOLENA\n",
      "6938              JOLIN\n",
      "6940               JOLT\n",
      "6898            JOCELYN\n",
      "6896     JOBIE-EINSTEIN\n",
      "6862              JINJU\n",
      "6892                JOB\n",
      "6863            JINKIES\n",
      "6864            JINKINS\n",
      "6865              JINKX\n",
      "6867              JINPA\n",
      "6868            JINSOON\n",
      "6871             JIONNI\n",
      "6873               JITS\n",
      "6874          JITTERBUG\n",
      "6876              JIVAN\n",
      "6877              JIZMO\n",
      "6879          JJ/DORJAY\n",
      "6880                JJU\n",
      "6881             JJUJJU\n",
      "6882            JJYODAA\n",
      "6883                J-K\n",
      "6884               J-LO\n",
      "6888              JOANN\n",
      "6890               JOAO\n",
      "6891            JOAQUIN\n",
      "16219             39743\n",
      "Name: Row_Labels, Length: 16220, dtype: object\n",
      "<class 'pandas.core.series.Series'>\n"
     ]
    }
   ],
   "source": [
    "#pandas取行或者列的注意点\n",
    "# - 方括号写数组,表示取行,对行进行操作\n",
    "# - 写字符串,表示的去列索引,对列进行操作\n",
    "print(df[:20])\n",
    "print(df[\"Row_Labels\"])\n",
    "print(type(df[\"Row_Labels\"]))"
   ]
  },
  {
   "cell_type": "markdown",
   "metadata": {},
   "source": [
    "### 有没有其他的定位方法？"
   ]
  },
  {
   "cell_type": "code",
   "execution_count": null,
   "metadata": {
    "collapsed": true
   },
   "outputs": [],
   "source": []
  },
  {
   "cell_type": "code",
   "execution_count": null,
   "metadata": {
    "collapsed": true
   },
   "outputs": [],
   "source": []
  }
 ],
 "metadata": {
  "kernelspec": {
   "display_name": "Python 3",
   "language": "python",
   "name": "python3"
  },
  "language_info": {
   "codemirror_mode": {
    "name": "ipython",
    "version": 3
   },
   "file_extension": ".py",
   "mimetype": "text/x-python",
   "name": "python",
   "nbconvert_exporter": "python",
   "pygments_lexer": "ipython3",
   "version": "3.6.5"
  }
 },
 "nbformat": 4,
 "nbformat_minor": 2
}
