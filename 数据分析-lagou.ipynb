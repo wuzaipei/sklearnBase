{
 "cells": [
  {
   "cell_type": "code",
   "execution_count": 8,
   "metadata": {
    "collapsed": true
   },
   "outputs": [],
   "source": [
    "import pymongo\n",
    "import pandas as pd\n",
    "import numpy as np"
   ]
  },
  {
   "cell_type": "code",
   "execution_count": 2,
   "metadata": {
    "collapsed": true
   },
   "outputs": [],
   "source": [
    "con  = pymongo.MongoClient('localhost')"
   ]
  },
  {
   "cell_type": "code",
   "execution_count": 6,
   "metadata": {
    "collapsed": true
   },
   "outputs": [],
   "source": [
    "db = con['lagou']\n",
    "position = db['DataMiningPosition']"
   ]
  },
  {
   "cell_type": "code",
   "execution_count": 46,
   "metadata": {},
   "outputs": [],
   "source": [
    "data = pd.DataFrame(list(position.find()))"
   ]
  },
  {
   "cell_type": "code",
   "execution_count": 1,
   "metadata": {},
   "outputs": [],
   "source": [
    "# data"
   ]
  },
  {
   "cell_type": "code",
   "execution_count": 48,
   "metadata": {
    "collapsed": true
   },
   "outputs": [],
   "source": [
    "salary = data['salary']"
   ]
  },
  {
   "cell_type": "code",
   "execution_count": 49,
   "metadata": {},
   "outputs": [],
   "source": [
    "import re\n",
    "def salary_filer(x):\n",
    "    res = re.search(r'(\\d+)[kK]-(\\d+)[kK]',x)\n",
    "    if res:\n",
    "        result = (int(res.group(1)) + int(res.group(2)))/2\n",
    "        return result"
   ]
  },
  {
   "cell_type": "code",
   "execution_count": 50,
   "metadata": {},
   "outputs": [
    {
     "data": {
      "text/plain": [
       "17.5"
      ]
     },
     "execution_count": 50,
     "metadata": {},
     "output_type": "execute_result"
    }
   ],
   "source": [
    "salary_filer('15k-20k')"
   ]
  },
  {
   "cell_type": "code",
   "execution_count": 51,
   "metadata": {},
   "outputs": [],
   "source": [
    "salary1 = salary.apply(salary_filer)"
   ]
  },
  {
   "cell_type": "code",
   "execution_count": 52,
   "metadata": {},
   "outputs": [],
   "source": [
    "def get_range(i):\n",
    "    if i > 30:\n",
    "        return '30k以上'\n",
    "    elif i >= 25:\n",
    "        return '25k-30k'\n",
    "    elif i >= 20:\n",
    "        return '20k-25k'\n",
    "    elif i >= 15:\n",
    "        return '15k-20k'\n",
    "    elif i >= 10:\n",
    "        return '10k-15k'\n",
    "    elif i >= 5:\n",
    "        return '5k-10k'\n",
    "    else:\n",
    "        return '5k以下' "
   ]
  },
  {
   "cell_type": "code",
   "execution_count": 53,
   "metadata": {
    "collapsed": true
   },
   "outputs": [],
   "source": [
    "salary = salary1.apply(get_range)"
   ]
  },
  {
   "cell_type": "code",
   "execution_count": 54,
   "metadata": {},
   "outputs": [
    {
     "data": {
      "text/plain": [
       "25k-30k    300\n",
       "20k-25k    250\n",
       "30k以上      229\n",
       "15k-20k    115\n",
       "10k-15k     75\n",
       "5k-10k      40\n",
       "5k以下        34\n",
       "Name: salary, dtype: int64"
      ]
     },
     "execution_count": 54,
     "metadata": {},
     "output_type": "execute_result"
    }
   ],
   "source": [
    "salary_pie = salary.value_counts()\n",
    "salary_pie"
   ]
  },
  {
   "cell_type": "code",
   "execution_count": null,
   "metadata": {
    "scrolled": true
   },
   "outputs": [],
   "source": [
    "from pyecharts import Pie\n",
    "\n",
    "attr = salary_pie.index\n",
    "v1 = salary_pie.values\n",
    "pie = Pie(\"数据挖掘薪酬分布图\")\n",
    "pie.add(\"\", attr, v1, is_label_show=True)\n",
    "pie.render('数据挖掘薪酬分布.html')\n",
    "pie"
   ]
  },
  {
   "cell_type": "code",
   "execution_count": 55,
   "metadata": {
    "collapsed": true
   },
   "outputs": [],
   "source": [
    "data['salary'] = salary1"
   ]
  },
  {
   "cell_type": "code",
   "execution_count": 98,
   "metadata": {
    "scrolled": true
   },
   "outputs": [
    {
     "data": {
      "text/plain": [
       "北京    498\n",
       "上海    139\n",
       "深圳    121\n",
       "杭州     85\n",
       "广州     69\n",
       "成都     38\n",
       "武汉     23\n",
       "南京     16\n",
       "厦门      9\n",
       "福州      6\n",
       "重庆      6\n",
       "西安      5\n",
       "苏州      4\n",
       "合肥      4\n",
       "郑州      3\n",
       "珠海      3\n",
       "天津      2\n",
       "青岛      2\n",
       "佛山      2\n",
       "长沙      2\n",
       "济南      1\n",
       "无锡      1\n",
       "贵阳      1\n",
       "东莞      1\n",
       "南宁      1\n",
       "太原      1\n",
       "Name: city, dtype: int64"
      ]
     },
     "execution_count": 98,
     "metadata": {},
     "output_type": "execute_result"
    }
   ],
   "source": [
    "city_counts = data['city'].value_counts()\n",
    "city_counts"
   ]
  },
  {
   "cell_type": "code",
   "execution_count": 99,
   "metadata": {},
   "outputs": [
    {
     "data": {
      "text/html": [
       "<div id=\"2018-08-06 15:58:18.596604\" style=\"width:800px; height:400px;\"></div>\n",
       "<script>\n",
       "    require.config({\n",
       "         paths:{\n",
       "            echarts: '//cdn.bootcss.com/echarts/3.6.2/echarts.min',\n",
       "            echartsgl: '//oog4yfyu0.bkt.clouddn.com/echarts-gl',\n",
       "            china: '//echarts.baidu.com/gallery/vendors/echarts/map/js/china',\n",
       "         }\n",
       "    });\n",
       "    require(['echarts', 'echartsgl', 'china'],function(ec){\n",
       "    var myChart = ec.init(document.getElementById('2018-08-06 15:58:18.596604'));\n",
       "               var option =  {\n",
       "    \"title\": [\n",
       "        {\n",
       "            \"text\": \"\\u804c\\u4f4d\\u5206\\u5e03\\u56fe\",\n",
       "            \"subtext\": \"\",\n",
       "            \"left\": \"auto\",\n",
       "            \"top\": \"auto\",\n",
       "            \"textStyle\": {\n",
       "                \"color\": \"#000\",\n",
       "                \"fontSize\": 18\n",
       "            },\n",
       "            \"subtextStyle\": {\n",
       "                \"color\": \"#aaa\",\n",
       "                \"fontSize\": 12\n",
       "            }\n",
       "        }\n",
       "    ],\n",
       "    \"toolbox\": {\n",
       "        \"show\": true,\n",
       "        \"orient\": \"vertical\",\n",
       "        \"left\": \"right\",\n",
       "        \"top\": \"center\",\n",
       "        \"feature\": {\n",
       "            \"saveAsImage\": {\n",
       "                \"show\": true\n",
       "            }\n",
       "        }\n",
       "    },\n",
       "    \"_index_flag\": 28064,\n",
       "    \"tooltip\": {},\n",
       "    \"series\": [\n",
       "        {\n",
       "            \"type\": \"bar\",\n",
       "            \"name\": \"\",\n",
       "            \"data\": [\n",
       "                498.0,\n",
       "                139.0,\n",
       "                121.0,\n",
       "                85.0,\n",
       "                69.0,\n",
       "                38.0,\n",
       "                23.0,\n",
       "                16.0,\n",
       "                9.0,\n",
       "                6.0,\n",
       "                6.0,\n",
       "                5.0,\n",
       "                4.0,\n",
       "                4.0,\n",
       "                3.0,\n",
       "                3.0,\n",
       "                2.0,\n",
       "                2.0,\n",
       "                2.0,\n",
       "                2.0,\n",
       "                1.0,\n",
       "                1.0,\n",
       "                1.0,\n",
       "                1.0,\n",
       "                1.0,\n",
       "                1.0\n",
       "            ],\n",
       "            \"stack\": \"\",\n",
       "            \"label\": {\n",
       "                \"normal\": {\n",
       "                    \"show\": false,\n",
       "                    \"position\": \"top\",\n",
       "                    \"textStyle\": {\n",
       "                        \"color\": \"#000\",\n",
       "                        \"fontSize\": 12\n",
       "                    },\n",
       "                    \"formatter\": null\n",
       "                },\n",
       "                \"emphasis\": {\n",
       "                    \"show\": true\n",
       "                }\n",
       "            },\n",
       "            \"markPoint\": {\n",
       "                \"data\": []\n",
       "            },\n",
       "            \"markLine\": {\n",
       "                \"data\": []\n",
       "            },\n",
       "            \"indexflag\": 28064\n",
       "        }\n",
       "    ],\n",
       "    \"legend\": [\n",
       "        {\n",
       "            \"data\": [\n",
       "                \"\"\n",
       "            ],\n",
       "            \"selectedMode\": \"multiple\",\n",
       "            \"show\": true,\n",
       "            \"left\": \"center\",\n",
       "            \"top\": \"top\",\n",
       "            \"orient\": \"horizontal\"\n",
       "        }\n",
       "    ],\n",
       "    \"backgroundColor\": \"#fff\",\n",
       "    \"xAxis\": [\n",
       "        {\n",
       "            \"name\": \"\",\n",
       "            \"nameLocation\": \"middle\",\n",
       "            \"nameGap\": 25,\n",
       "            \"nameTextStyle\": {\n",
       "                \"fontSize\": 14\n",
       "            },\n",
       "            \"axisLabel\": {\n",
       "                \"interval\": \"auto\",\n",
       "                \"rotate\": 0\n",
       "            },\n",
       "            \"min\": null,\n",
       "            \"max\": null,\n",
       "            \"data\": [\n",
       "                \"\\u5317\\u4eac\",\n",
       "                \"\\u4e0a\\u6d77\",\n",
       "                \"\\u6df1\\u5733\",\n",
       "                \"\\u676d\\u5dde\",\n",
       "                \"\\u5e7f\\u5dde\",\n",
       "                \"\\u6210\\u90fd\",\n",
       "                \"\\u6b66\\u6c49\",\n",
       "                \"\\u5357\\u4eac\",\n",
       "                \"\\u53a6\\u95e8\",\n",
       "                \"\\u798f\\u5dde\",\n",
       "                \"\\u91cd\\u5e86\",\n",
       "                \"\\u897f\\u5b89\",\n",
       "                \"\\u82cf\\u5dde\",\n",
       "                \"\\u5408\\u80a5\",\n",
       "                \"\\u90d1\\u5dde\",\n",
       "                \"\\u73e0\\u6d77\",\n",
       "                \"\\u5929\\u6d25\",\n",
       "                \"\\u9752\\u5c9b\",\n",
       "                \"\\u4f5b\\u5c71\",\n",
       "                \"\\u957f\\u6c99\",\n",
       "                \"\\u6d4e\\u5357\",\n",
       "                \"\\u65e0\\u9521\",\n",
       "                \"\\u8d35\\u9633\",\n",
       "                \"\\u4e1c\\u839e\",\n",
       "                \"\\u5357\\u5b81\",\n",
       "                \"\\u592a\\u539f\"\n",
       "            ],\n",
       "            \"type\": \"category\"\n",
       "        }\n",
       "    ],\n",
       "    \"yAxis\": [\n",
       "        {\n",
       "            \"name\": \"\",\n",
       "            \"nameLocation\": \"middle\",\n",
       "            \"nameGap\": 25,\n",
       "            \"nameTextStyle\": {\n",
       "                \"fontSize\": 14\n",
       "            },\n",
       "            \"axisLabel\": {\n",
       "                \"formatter\": \"{value} \",\n",
       "                \"rotate\": 0\n",
       "            },\n",
       "            \"min\": null,\n",
       "            \"max\": null,\n",
       "            \"type\": \"value\"\n",
       "        }\n",
       "    ],\n",
       "    \"color\": [\n",
       "        \"#c23531\",\n",
       "        \"#2f4554\",\n",
       "        \"#61a0a8\",\n",
       "        \"#d48265\",\n",
       "        \"#749f83\",\n",
       "        \"#ca8622\",\n",
       "        \"#bda29a\",\n",
       "        \"#6e7074\",\n",
       "        \"#546570\",\n",
       "        \"#c4ccd3\",\n",
       "        \"#f05b72\",\n",
       "        \"#ef5b9c\",\n",
       "        \"#f47920\",\n",
       "        \"#905a3d\",\n",
       "        \"#fab27b\",\n",
       "        \"#2a5caa\",\n",
       "        \"#444693\",\n",
       "        \"#726930\",\n",
       "        \"#b2d235\",\n",
       "        \"#6d8346\",\n",
       "        \"#ac6767\",\n",
       "        \"#1d953f\",\n",
       "        \"#6950a1\",\n",
       "        \"#918597\",\n",
       "        \"#f6f5ec\"\n",
       "    ]\n",
       "};\n",
       "               myChart.setOption(option);\n",
       "    });\n",
       "</script>\n"
      ],
      "text/plain": [
       "<pyecharts.charts.bar.Bar at 0x1e39f2ce1d0>"
      ]
     },
     "execution_count": 99,
     "metadata": {},
     "output_type": "execute_result"
    }
   ],
   "source": [
    "from pyecharts import Bar\n",
    "\n",
    "attr = city_counts.index\n",
    "v1 = city_counts.values\n",
    "\n",
    "bar = Bar(\"职位分布图\")\n",
    "bar.add(\"\", attr, v1, is_stack=False)\n",
    "bar.render('职位分布图.html')\n",
    "bar"
   ]
  },
  {
   "cell_type": "code",
   "execution_count": 60,
   "metadata": {},
   "outputs": [
    {
     "data": {
      "text/html": [
       "<div>\n",
       "<style>\n",
       "    .dataframe thead tr:only-child th {\n",
       "        text-align: right;\n",
       "    }\n",
       "\n",
       "    .dataframe thead th {\n",
       "        text-align: left;\n",
       "    }\n",
       "\n",
       "    .dataframe tbody tr th {\n",
       "        vertical-align: top;\n",
       "    }\n",
       "</style>\n",
       "<table border=\"1\" class=\"dataframe\">\n",
       "  <thead>\n",
       "    <tr style=\"text-align: right;\">\n",
       "      <th></th>\n",
       "      <th>companyId</th>\n",
       "      <th>positionId</th>\n",
       "      <th>salary</th>\n",
       "    </tr>\n",
       "    <tr>\n",
       "      <th>city</th>\n",
       "      <th></th>\n",
       "      <th></th>\n",
       "      <th></th>\n",
       "    </tr>\n",
       "  </thead>\n",
       "  <tbody>\n",
       "    <tr>\n",
       "      <th>重庆</th>\n",
       "      <td>170509.666667</td>\n",
       "      <td>3.922738e+06</td>\n",
       "      <td>32.000000</td>\n",
       "    </tr>\n",
       "    <tr>\n",
       "      <th>北京</th>\n",
       "      <td>64615.630522</td>\n",
       "      <td>3.891809e+06</td>\n",
       "      <td>28.497992</td>\n",
       "    </tr>\n",
       "    <tr>\n",
       "      <th>深圳</th>\n",
       "      <td>91252.991736</td>\n",
       "      <td>3.861505e+06</td>\n",
       "      <td>26.078512</td>\n",
       "    </tr>\n",
       "    <tr>\n",
       "      <th>上海</th>\n",
       "      <td>86363.661871</td>\n",
       "      <td>3.917663e+06</td>\n",
       "      <td>24.920863</td>\n",
       "    </tr>\n",
       "    <tr>\n",
       "      <th>杭州</th>\n",
       "      <td>100543.152941</td>\n",
       "      <td>3.673468e+06</td>\n",
       "      <td>24.264706</td>\n",
       "    </tr>\n",
       "    <tr>\n",
       "      <th>广州</th>\n",
       "      <td>68393.188406</td>\n",
       "      <td>4.045580e+06</td>\n",
       "      <td>20.311594</td>\n",
       "    </tr>\n",
       "    <tr>\n",
       "      <th>南京</th>\n",
       "      <td>89152.062500</td>\n",
       "      <td>4.059639e+06</td>\n",
       "      <td>20.156250</td>\n",
       "    </tr>\n",
       "    <tr>\n",
       "      <th>成都</th>\n",
       "      <td>94132.131579</td>\n",
       "      <td>3.989024e+06</td>\n",
       "      <td>20.039474</td>\n",
       "    </tr>\n",
       "    <tr>\n",
       "      <th>青岛</th>\n",
       "      <td>212644.500000</td>\n",
       "      <td>3.185164e+06</td>\n",
       "      <td>18.750000</td>\n",
       "    </tr>\n",
       "    <tr>\n",
       "      <th>佛山</th>\n",
       "      <td>242784.000000</td>\n",
       "      <td>4.584072e+06</td>\n",
       "      <td>18.750000</td>\n",
       "    </tr>\n",
       "    <tr>\n",
       "      <th>苏州</th>\n",
       "      <td>41657.500000</td>\n",
       "      <td>3.248074e+06</td>\n",
       "      <td>18.000000</td>\n",
       "    </tr>\n",
       "    <tr>\n",
       "      <th>厦门</th>\n",
       "      <td>129988.333333</td>\n",
       "      <td>3.893153e+06</td>\n",
       "      <td>17.277778</td>\n",
       "    </tr>\n",
       "    <tr>\n",
       "      <th>福州</th>\n",
       "      <td>219113.000000</td>\n",
       "      <td>4.404790e+06</td>\n",
       "      <td>16.833333</td>\n",
       "    </tr>\n",
       "    <tr>\n",
       "      <th>武汉</th>\n",
       "      <td>106071.956522</td>\n",
       "      <td>4.144668e+06</td>\n",
       "      <td>15.565217</td>\n",
       "    </tr>\n",
       "    <tr>\n",
       "      <th>西安</th>\n",
       "      <td>50533.200000</td>\n",
       "      <td>4.189913e+06</td>\n",
       "      <td>14.000000</td>\n",
       "    </tr>\n",
       "    <tr>\n",
       "      <th>长沙</th>\n",
       "      <td>73492.500000</td>\n",
       "      <td>3.898581e+06</td>\n",
       "      <td>13.750000</td>\n",
       "    </tr>\n",
       "    <tr>\n",
       "      <th>合肥</th>\n",
       "      <td>89895.250000</td>\n",
       "      <td>4.292856e+06</td>\n",
       "      <td>13.500000</td>\n",
       "    </tr>\n",
       "    <tr>\n",
       "      <th>珠海</th>\n",
       "      <td>21007.000000</td>\n",
       "      <td>4.303631e+06</td>\n",
       "      <td>13.166667</td>\n",
       "    </tr>\n",
       "    <tr>\n",
       "      <th>济南</th>\n",
       "      <td>17049.000000</td>\n",
       "      <td>3.135498e+06</td>\n",
       "      <td>12.000000</td>\n",
       "    </tr>\n",
       "    <tr>\n",
       "      <th>郑州</th>\n",
       "      <td>259585.333333</td>\n",
       "      <td>4.333264e+06</td>\n",
       "      <td>10.666667</td>\n",
       "    </tr>\n",
       "    <tr>\n",
       "      <th>贵阳</th>\n",
       "      <td>312628.000000</td>\n",
       "      <td>4.147672e+06</td>\n",
       "      <td>9.000000</td>\n",
       "    </tr>\n",
       "    <tr>\n",
       "      <th>南宁</th>\n",
       "      <td>225097.000000</td>\n",
       "      <td>4.199798e+06</td>\n",
       "      <td>9.000000</td>\n",
       "    </tr>\n",
       "    <tr>\n",
       "      <th>东莞</th>\n",
       "      <td>180060.000000</td>\n",
       "      <td>2.902948e+06</td>\n",
       "      <td>8.000000</td>\n",
       "    </tr>\n",
       "    <tr>\n",
       "      <th>太原</th>\n",
       "      <td>4184.000000</td>\n",
       "      <td>4.600988e+06</td>\n",
       "      <td>7.000000</td>\n",
       "    </tr>\n",
       "    <tr>\n",
       "      <th>无锡</th>\n",
       "      <td>233304.000000</td>\n",
       "      <td>4.481845e+06</td>\n",
       "      <td>5.000000</td>\n",
       "    </tr>\n",
       "    <tr>\n",
       "      <th>天津</th>\n",
       "      <td>57582.000000</td>\n",
       "      <td>4.358980e+06</td>\n",
       "      <td>3.250000</td>\n",
       "    </tr>\n",
       "  </tbody>\n",
       "</table>\n",
       "</div>"
      ],
      "text/plain": [
       "          companyId    positionId     salary\n",
       "city                                        \n",
       "重庆    170509.666667  3.922738e+06  32.000000\n",
       "北京     64615.630522  3.891809e+06  28.497992\n",
       "深圳     91252.991736  3.861505e+06  26.078512\n",
       "上海     86363.661871  3.917663e+06  24.920863\n",
       "杭州    100543.152941  3.673468e+06  24.264706\n",
       "广州     68393.188406  4.045580e+06  20.311594\n",
       "南京     89152.062500  4.059639e+06  20.156250\n",
       "成都     94132.131579  3.989024e+06  20.039474\n",
       "青岛    212644.500000  3.185164e+06  18.750000\n",
       "佛山    242784.000000  4.584072e+06  18.750000\n",
       "苏州     41657.500000  3.248074e+06  18.000000\n",
       "厦门    129988.333333  3.893153e+06  17.277778\n",
       "福州    219113.000000  4.404790e+06  16.833333\n",
       "武汉    106071.956522  4.144668e+06  15.565217\n",
       "西安     50533.200000  4.189913e+06  14.000000\n",
       "长沙     73492.500000  3.898581e+06  13.750000\n",
       "合肥     89895.250000  4.292856e+06  13.500000\n",
       "珠海     21007.000000  4.303631e+06  13.166667\n",
       "济南     17049.000000  3.135498e+06  12.000000\n",
       "郑州    259585.333333  4.333264e+06  10.666667\n",
       "贵阳    312628.000000  4.147672e+06   9.000000\n",
       "南宁    225097.000000  4.199798e+06   9.000000\n",
       "东莞    180060.000000  2.902948e+06   8.000000\n",
       "太原      4184.000000  4.600988e+06   7.000000\n",
       "无锡    233304.000000  4.481845e+06   5.000000\n",
       "天津     57582.000000  4.358980e+06   3.250000"
      ]
     },
     "execution_count": 60,
     "metadata": {},
     "output_type": "execute_result"
    }
   ],
   "source": [
    "data.groupby('city').mean().sort_values(by='salary',ascending=False)"
   ]
  },
  {
   "cell_type": "code",
   "execution_count": 69,
   "metadata": {},
   "outputs": [
    {
     "data": {
      "text/plain": [
       "companyId\n",
       "50702     42\n",
       "451       31\n",
       "82991     27\n",
       "1575      25\n",
       "62        22\n",
       "153849    21\n",
       "329       17\n",
       "520       15\n",
       "136443    14\n",
       "18139     13\n",
       "dtype: int64"
      ]
     },
     "execution_count": 69,
     "metadata": {},
     "output_type": "execute_result"
    }
   ],
   "source": [
    "data.groupby('companyId').size().sort_values(ascending=False)[:10]"
   ]
  },
  {
   "cell_type": "code",
   "execution_count": 87,
   "metadata": {
    "collapsed": true
   },
   "outputs": [],
   "source": [
    "data = pd.DataFrame(list(position.find()))"
   ]
  },
  {
   "cell_type": "code",
   "execution_count": 88,
   "metadata": {},
   "outputs": [],
   "source": [
    "id_data = data['companyFullName'].value_counts()"
   ]
  },
  {
   "cell_type": "code",
   "execution_count": 90,
   "metadata": {},
   "outputs": [
    {
     "data": {
      "text/plain": [
       "北京三快在线科技有限公司          42\n",
       "腾讯科技(深圳)有限公司          31\n",
       "北京数美时代科技有限公司          27\n",
       "百度在线网络技术（北京）有限公司      25\n",
       "北京字节跳动科技有限公司          22\n",
       "支付宝(杭州)信息技术有限公司       21\n",
       "网易（杭州）有限公司            17\n",
       "北京京东世纪贸易有限公司          15\n",
       "北京小米科技有限责任公司          15\n",
       "马上消费金融股份有限公司          14\n",
       "北京搜狗科技发展有限公司          12\n",
       "北京陌陌科技有限公司            10\n",
       "小船出海教育科技（北京）有限公司       9\n",
       "奇虎360科技有限公司            8\n",
       "普信恒业科技发展（北京）有限公司       8\n",
       "北京金山软件有限公司             8\n",
       "顺丰科技有限公司               8\n",
       "北京明略软件系统有限公司           7\n",
       "北京搜狐新媒体信息技术有限公司        7\n",
       "杭州橙鹰数据技术有限公司           6\n",
       "北京善义善美科技有限公司           6\n",
       "新华网股份有限公司              6\n",
       "北京闪银奇异科技有限公司           6\n",
       "北京五八到家信息技术有限公司         5\n",
       "融慧金科金融服务外包（北京）有限公司     5\n",
       "北京车之家信息技术有限公司          5\n",
       "唯品会（中国）有限公司            5\n",
       "北京瓴岳信息技术有限公司           5\n",
       "浙江天猫技术有限公司             5\n",
       "厦门美图之家科技有限公司           5\n",
       "                      ..\n",
       "京东金融                   1\n",
       "深圳市新国都技术股份有限公司         1\n",
       "北京音娱时光科技有限公司           1\n",
       "中国平安人寿保险股份有限公司         1\n",
       "中商惠民（北京）电子商务有限公司       1\n",
       "平安证券股份有限公司             1\n",
       "上海国凯英计算机科技有限公司         1\n",
       "上海寻梦信息技术有限公司           1\n",
       "联通大数据有限公司              1\n",
       "时趣互动（北京）科技有限公司         1\n",
       "重庆软维科技有限公司             1\n",
       "北京精准沟通国际传媒广告有限公司       1\n",
       "杭州雅拓信息技术有限公司           1\n",
       "广州市骑鹅游信息技术咨询服务有限公司     1\n",
       "广州优思得科技有限公司            1\n",
       "特斯联（北京）科技有限公司          1\n",
       "重庆橙红信息科技有限公司           1\n",
       "南京苏宁软件技术有限公司           1\n",
       "北京蓦然认知科技有限公司           1\n",
       "上海复深蓝软件股份有限公司          1\n",
       "四川中清科华云联科技有限公司         1\n",
       "杭州洋驼网络科技有限公司           1\n",
       "北京言之有物科技有限公司           1\n",
       "上海展盟网络科技有限公司           1\n",
       "厦门筑才建筑工程有限公司           1\n",
       "易宝支付有限公司               1\n",
       "广州啦咔网络科技有限公司           1\n",
       "上海海同优才教育培训有限责任公司       1\n",
       "深圳晶泰科技有限公司             1\n",
       "蔷薇控股股份有限公司             1\n",
       "Name: companyFullName, Length: 521, dtype: int64"
      ]
     },
     "execution_count": 90,
     "metadata": {},
     "output_type": "execute_result"
    }
   ],
   "source": [
    "id_data"
   ]
  },
  {
   "cell_type": "code",
   "execution_count": 101,
   "metadata": {},
   "outputs": [],
   "source": [
    "df = pd.read_csv('DataMiningPosition.csv',encoding='gbk')"
   ]
  },
  {
   "cell_type": "code",
   "execution_count": 105,
   "metadata": {},
   "outputs": [],
   "source": [
    "df.to_csv('data.csv')"
   ]
  },
  {
   "cell_type": "code",
   "execution_count": null,
   "metadata": {
    "collapsed": true
   },
   "outputs": [],
   "source": []
  }
 ],
 "metadata": {
  "kernelspec": {
   "display_name": "Python 3",
   "language": "python",
   "name": "python3"
  },
  "language_info": {
   "codemirror_mode": {
    "name": "ipython",
    "version": 3
   },
   "file_extension": ".py",
   "mimetype": "text/x-python",
   "name": "python",
   "nbconvert_exporter": "python",
   "pygments_lexer": "ipython3",
   "version": "3.6.5"
  }
 },
 "nbformat": 4,
 "nbformat_minor": 2
}
