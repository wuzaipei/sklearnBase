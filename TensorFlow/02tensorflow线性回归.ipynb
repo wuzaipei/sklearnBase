{
 "cells": [
  {
   "cell_type": "code",
   "execution_count": 1,
   "metadata": {},
   "outputs": [
    {
     "name": "stderr",
     "output_type": "stream",
     "text": [
      "C:\\Anaconda3\\lib\\site-packages\\h5py\\__init__.py:34: FutureWarning: Conversion of the second argument of issubdtype from `float` to `np.floating` is deprecated. In future, it will be treated as `np.float64 == np.dtype(float).type`.\n",
      "  from ._conv import register_converters as _register_converters\n"
     ]
    }
   ],
   "source": [
    "import numpy as np\n",
    "import tensorflow as tf\n",
    "import matplotlib.pyplot as plt\n",
    "%matplotlib inline"
   ]
  },
  {
   "cell_type": "markdown",
   "metadata": {},
   "source": [
    "## 构造数据点"
   ]
  },
  {
   "cell_type": "code",
   "execution_count": 2,
   "metadata": {
    "collapsed": true
   },
   "outputs": [],
   "source": [
    "# 随机生成1000个点，围绕在y=0.1x + 0.3这条直线周围\n",
    "num_points = 1000\n",
    "vectors_set = []\n",
    "for i in range(num_points):\n",
    "    x1 = np.random.normal(0.0,0.55)\n",
    "    y1 = x1 * 0.1 + 0.3 + np.random.normal(0.0,0.03)\n",
    "    vectors_set.append([x1,y1])"
   ]
  },
  {
   "cell_type": "code",
   "execution_count": 3,
   "metadata": {},
   "outputs": [
    {
     "data": {
      "text/plain": [
       "-0.056198574001145495"
      ]
     },
     "execution_count": 3,
     "metadata": {},
     "output_type": "execute_result"
    }
   ],
   "source": [
    "np.random.normal(0,1)"
   ]
  },
  {
   "cell_type": "code",
   "execution_count": 4,
   "metadata": {},
   "outputs": [
    {
     "data": {
      "image/png": "[encoded data removed]",
      "text/plain": [
       "<matplotlib.figure.Figure at 0x1ee411f45c0>"
      ]
     },
     "metadata": {},
     "output_type": "display_data"
    }
   ],
   "source": [
    "# 生成一些样本\n",
    "x_data = [v[0] for v in vectors_set]\n",
    "y_data = [v[1] for v in vectors_set]\n",
    "plt.scatter(x_data,y_data,c=\"r\")\n",
    "plt.show()"
   ]
  },
  {
   "cell_type": "markdown",
   "metadata": {},
   "source": [
    "## 线性回归建模  \n",
    "1、初始化w，b  \n",
    "\n",
    "2、生成预测值y  \n",
    " \n",
    "3、构造损失函数  \n",
    "\n",
    "4、构造损失函数优化器(指定优化方法：梯度下降)  \n",
    "\n",
    "5、通过优化器最小化损失函数来构造训练对象\n",
    "\n",
    "6、创建tf会话，运行初始化全局变量，运行训练对象（需设置循次数）\n"
   ]
  },
  {
   "cell_type": "code",
   "execution_count": 5,
   "metadata": {},
   "outputs": [
    {
     "name": "stdout",
     "output_type": "stream",
     "text": [
      "W = [-0.66792274] b = [0.] loss = 0.2828858\n",
      "W = [-0.42032087] b = [0.3054471] loss = 0.087651186\n",
      "W = [-0.25397557] b = [0.30362225] loss = 0.041131113\n",
      "W = [-0.14069468] b = [0.30239627] loss = 0.019557083\n",
      "W = [-0.0635507] b = [0.3015614] loss = 0.00955197\n",
      "W = [-0.01101585] b = [0.30099285] loss = 0.0049120253\n",
      "W = [0.02476024] b = [0.30060565] loss = 0.0027602164\n",
      "W = [0.04912367] b = [0.300342] loss = 0.0017622994\n",
      "W = [0.06571509] b = [0.30016243] loss = 0.0012995078\n",
      "W = [0.07701381] b = [0.30004016] loss = 0.001084885\n",
      "W = [0.0847082] b = [0.29995686] loss = 0.0009853521\n",
      "W = [0.08994807] b = [0.29990017] loss = 0.00093919295\n",
      "W = [0.0935164] b = [0.29986155] loss = 0.0009177862\n",
      "W = [0.09594642] b = [0.29983523] loss = 0.0009078588\n",
      "W = [0.09760126] b = [0.29981732] loss = 0.00090325484\n",
      "W = [0.09872821] b = [0.29980513] loss = 0.00090111984\n",
      "W = [0.09949566] b = [0.29979685] loss = 0.00090012955\n",
      "W = [0.10001829] b = [0.2997912] loss = 0.00089967035\n",
      "W = [0.10037419] b = [0.2997873] loss = 0.00089945743\n",
      "W = [0.10061657] b = [0.2997847] loss = 0.00089935865\n",
      "W = [0.10078162] b = [0.29978293] loss = 0.0008993128\n"
     ]
    }
   ],
   "source": [
    "# 生成1维的W矩阵，取值是[-1,1]之间的随机数\n",
    "W = tf.Variable(tf.random_uniform([1], -1.0, 1.0), name='W')\n",
    "# 生成1维的b矩阵，初始值是0\n",
    "b = tf.Variable(tf.zeros([1]), name='b')\n",
    "# 经过计算得出预估值y\n",
    "y = W * x_data + b\n",
    "\n",
    "# 以预估值y和实际值y_data之间的均方误差作为损失\n",
    "loss = tf.reduce_mean(tf.square(y - y_data), name='loss')\n",
    "# 采用梯度下降法来优化参数\n",
    "optimizer = tf.train.GradientDescentOptimizer(0.5) # 0.5指学习率\n",
    "# 训练的过程就是最小化这个误差值\n",
    "train = optimizer.minimize(loss, name='train')\n",
    "\n",
    "sess = tf.Session()\n",
    "\n",
    "init = tf.global_variables_initializer()\n",
    "sess.run(init)\n",
    "\n",
    "# 初始化的W和b是多少\n",
    "print (\"W =\", sess.run(W), \"b =\", sess.run(b), \"loss =\", sess.run(loss))\n",
    "# 执行20次训练\n",
    "for step in range(20):\n",
    "    sess.run(train)\n",
    "    # 输出训练好的W和b\n",
    "    print (\"W =\", sess.run(W), \"b =\", sess.run(b), \"loss =\", sess.run(loss))\n",
    "writer = tf.summary.FileWriter(\"./tmp\", sess.graph)"
   ]
  },
  {
   "cell_type": "code",
   "execution_count": 6,
   "metadata": {},
   "outputs": [
    {
     "name": "stdout",
     "output_type": "stream",
     "text": [
      "<tensorflow.python.summary.writer.writer.FileWriter object at 0x000002DA64492CC0>\n"
     ]
    }
   ],
   "source": [
    "print(writer)"
   ]
  },
  {
   "cell_type": "code",
   "execution_count": 6,
   "metadata": {},
   "outputs": [
    {
     "data": {
      "image/png": "[encoded data removed]",
      "text/plain": [
       "<matplotlib.figure.Figure at 0x1ee4124acf8>"
      ]
     },
     "metadata": {},
     "output_type": "display_data"
    }
   ],
   "source": [
    "plt.scatter(x_data,y_data,c='r')\n",
    "plt.plot(x_data,sess.run(W)*x_data+sess.run(b))\n",
    "plt.show()"
   ]
  },
  {
   "cell_type": "code",
   "execution_count": null,
   "metadata": {
    "collapsed": true
   },
   "outputs": [],
   "source": []
  }
 ],
 "metadata": {
  "kernelspec": {
   "display_name": "Python 3",
   "language": "python",
   "name": "python3"
  },
  "language_info": {
   "codemirror_mode": {
    "name": "ipython",
    "version": 3
   },
   "file_extension": ".py",
   "mimetype": "text/x-python",
   "name": "python",
   "nbconvert_exporter": "python",
   "pygments_lexer": "ipython3",
   "version": "3.6.3"
  }
 },
 "nbformat": 4,
 "nbformat_minor": 2
}
