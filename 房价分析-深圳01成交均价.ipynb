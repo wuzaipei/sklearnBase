{
 "cells": [
  {
   "cell_type": "code",
   "execution_count": 1,
   "metadata": {
    "collapsed": true
   },
   "outputs": [],
   "source": [
    "import pandas as pd\n",
    "import matplotlib.pyplot as plt\n",
    "import pymongo\n",
    "%matplotlib inline"
   ]
  },
  {
   "cell_type": "code",
   "execution_count": 2,
   "metadata": {
    "collapsed": true
   },
   "outputs": [],
   "source": [
    "client = pymongo.MongoClient(\"localhost\")\n",
    "db = client[\"lianjia\"]\n",
    "fangyuan = db[\"fangyuanbigsz\"]"
   ]
  },
  {
   "cell_type": "code",
   "execution_count": 3,
   "metadata": {
    "collapsed": true
   },
   "outputs": [],
   "source": [
    "data = pd.DataFrame(list(fangyuan.find()))"
   ]
  },
  {
   "cell_type": "code",
   "execution_count": 4,
   "metadata": {
    "scrolled": true
   },
   "outputs": [
    {
     "data": {
      "text/html": [
       "<div>\n",
       "<style>\n",
       "    .dataframe thead tr:only-child th {\n",
       "        text-align: right;\n",
       "    }\n",
       "\n",
       "    .dataframe thead th {\n",
       "        text-align: left;\n",
       "    }\n",
       "\n",
       "    .dataframe tbody tr th {\n",
       "        vertical-align: top;\n",
       "    }\n",
       "</style>\n",
       "<table border=\"1\" class=\"dataframe\">\n",
       "  <thead>\n",
       "    <tr style=\"text-align: right;\">\n",
       "      <th></th>\n",
       "      <th>_id</th>\n",
       "      <th>url</th>\n",
       "      <th>交易权属</th>\n",
       "      <th>供暖方式</th>\n",
       "      <th>关注人数</th>\n",
       "      <th>套内面积</th>\n",
       "      <th>小区</th>\n",
       "      <th>小区编号</th>\n",
       "      <th>带看次数</th>\n",
       "      <th>建筑年代</th>\n",
       "      <th>...</th>\n",
       "      <th>板块</th>\n",
       "      <th>板块url</th>\n",
       "      <th>梯户比例</th>\n",
       "      <th>浏览次数</th>\n",
       "      <th>行政区域</th>\n",
       "      <th>行政区域url</th>\n",
       "      <th>装修情况</th>\n",
       "      <th>调价次数</th>\n",
       "      <th>配备电梯</th>\n",
       "      <th>链家编号</th>\n",
       "    </tr>\n",
       "  </thead>\n",
       "  <tbody>\n",
       "    <tr>\n",
       "      <th>0</th>\n",
       "      <td>5b2400cde0d7211d13019004</td>\n",
       "      <td>https://sz.lianjia.com/chengjiao/105101181103....</td>\n",
       "      <td>商品房</td>\n",
       "      <td></td>\n",
       "      <td>6</td>\n",
       "      <td>暂无数据</td>\n",
       "      <td>名城国际广场</td>\n",
       "      <td>2411063075599</td>\n",
       "      <td>0</td>\n",
       "      <td>70年</td>\n",
       "      <td>...</td>\n",
       "      <td>布吉大芬</td>\n",
       "      <td>https://sz.lianjia.com/chengjiao/bujidafen/</td>\n",
       "      <td>四梯二十二户</td>\n",
       "      <td>305</td>\n",
       "      <td>龙岗区</td>\n",
       "      <td>https://sz.lianjia.com/chengjiao/longgangqu/</td>\n",
       "      <td>其他</td>\n",
       "      <td>0</td>\n",
       "      <td>有</td>\n",
       "      <td>105101181103</td>\n",
       "    </tr>\n",
       "    <tr>\n",
       "      <th>1</th>\n",
       "      <td>5b2400cde0d7211d13019006</td>\n",
       "      <td>https://sz.lianjia.com/chengjiao/105101153657....</td>\n",
       "      <td>商品房</td>\n",
       "      <td></td>\n",
       "      <td>0</td>\n",
       "      <td>暂无数据</td>\n",
       "      <td>名城国际广场</td>\n",
       "      <td>2411063075599</td>\n",
       "      <td>0</td>\n",
       "      <td>70年</td>\n",
       "      <td>...</td>\n",
       "      <td>布吉大芬</td>\n",
       "      <td>https://sz.lianjia.com/chengjiao/bujidafen/</td>\n",
       "      <td>四梯二十二户</td>\n",
       "      <td>暂无数据</td>\n",
       "      <td>龙岗区</td>\n",
       "      <td>https://sz.lianjia.com/chengjiao/longgangqu/</td>\n",
       "      <td>其他</td>\n",
       "      <td>0</td>\n",
       "      <td>有</td>\n",
       "      <td>105101153657</td>\n",
       "    </tr>\n",
       "    <tr>\n",
       "      <th>2</th>\n",
       "      <td>5b2400cde0d7211d13019008</td>\n",
       "      <td>https://sz.lianjia.com/chengjiao/105101158301....</td>\n",
       "      <td>商品房</td>\n",
       "      <td></td>\n",
       "      <td>2</td>\n",
       "      <td>暂无数据</td>\n",
       "      <td>名城国际广场</td>\n",
       "      <td>2411063075599</td>\n",
       "      <td>0</td>\n",
       "      <td>70年</td>\n",
       "      <td>...</td>\n",
       "      <td>布吉大芬</td>\n",
       "      <td>https://sz.lianjia.com/chengjiao/bujidafen/</td>\n",
       "      <td>四梯二十二户</td>\n",
       "      <td>284</td>\n",
       "      <td>龙岗区</td>\n",
       "      <td>https://sz.lianjia.com/chengjiao/longgangqu/</td>\n",
       "      <td>其他</td>\n",
       "      <td>0</td>\n",
       "      <td>有</td>\n",
       "      <td>105101158301</td>\n",
       "    </tr>\n",
       "    <tr>\n",
       "      <th>3</th>\n",
       "      <td>5b2400cde0d7211d1301900a</td>\n",
       "      <td>https://sz.lianjia.com/chengjiao/105101283981....</td>\n",
       "      <td>商品房</td>\n",
       "      <td></td>\n",
       "      <td>4</td>\n",
       "      <td>暂无数据</td>\n",
       "      <td>名城国际广场</td>\n",
       "      <td>2411063075599</td>\n",
       "      <td>0</td>\n",
       "      <td>70年</td>\n",
       "      <td>...</td>\n",
       "      <td>布吉大芬</td>\n",
       "      <td>https://sz.lianjia.com/chengjiao/bujidafen/</td>\n",
       "      <td>四梯二十二户</td>\n",
       "      <td>295</td>\n",
       "      <td>龙岗区</td>\n",
       "      <td>https://sz.lianjia.com/chengjiao/longgangqu/</td>\n",
       "      <td>其他</td>\n",
       "      <td>1</td>\n",
       "      <td>有</td>\n",
       "      <td>105101283981</td>\n",
       "    </tr>\n",
       "    <tr>\n",
       "      <th>4</th>\n",
       "      <td>5b2400cde0d7211d1301900c</td>\n",
       "      <td>https://sz.lianjia.com/chengjiao/105101188483....</td>\n",
       "      <td>商品房</td>\n",
       "      <td></td>\n",
       "      <td>74</td>\n",
       "      <td>暂无数据</td>\n",
       "      <td>名城国际广场</td>\n",
       "      <td>2411063075599</td>\n",
       "      <td>0</td>\n",
       "      <td>70年</td>\n",
       "      <td>...</td>\n",
       "      <td>布吉大芬</td>\n",
       "      <td>https://sz.lianjia.com/chengjiao/bujidafen/</td>\n",
       "      <td>一梯四户</td>\n",
       "      <td>2049</td>\n",
       "      <td>龙岗区</td>\n",
       "      <td>https://sz.lianjia.com/chengjiao/longgangqu/</td>\n",
       "      <td>其他</td>\n",
       "      <td>2</td>\n",
       "      <td>无</td>\n",
       "      <td>105101188483</td>\n",
       "    </tr>\n",
       "  </tbody>\n",
       "</table>\n",
       "<p>5 rows × 36 columns</p>\n",
       "</div>"
      ],
      "text/plain": [
       "                        _id  \\\n",
       "0  5b2400cde0d7211d13019004   \n",
       "1  5b2400cde0d7211d13019006   \n",
       "2  5b2400cde0d7211d13019008   \n",
       "3  5b2400cde0d7211d1301900a   \n",
       "4  5b2400cde0d7211d1301900c   \n",
       "\n",
       "                                                 url 交易权属 供暖方式 关注人数  套内面积  \\\n",
       "0  https://sz.lianjia.com/chengjiao/105101181103....  商品房         6  暂无数据   \n",
       "1  https://sz.lianjia.com/chengjiao/105101153657....  商品房         0  暂无数据   \n",
       "2  https://sz.lianjia.com/chengjiao/105101158301....  商品房         2  暂无数据   \n",
       "3  https://sz.lianjia.com/chengjiao/105101283981....  商品房         4  暂无数据   \n",
       "4  https://sz.lianjia.com/chengjiao/105101188483....  商品房        74  暂无数据   \n",
       "\n",
       "       小区           小区编号 带看次数 建筑年代      ...         板块  \\\n",
       "0  名城国际广场  2411063075599    0  70年      ...       布吉大芬   \n",
       "1  名城国际广场  2411063075599    0  70年      ...       布吉大芬   \n",
       "2  名城国际广场  2411063075599    0  70年      ...       布吉大芬   \n",
       "3  名城国际广场  2411063075599    0  70年      ...       布吉大芬   \n",
       "4  名城国际广场  2411063075599    0  70年      ...       布吉大芬   \n",
       "\n",
       "                                         板块url    梯户比例  浏览次数 行政区域  \\\n",
       "0  https://sz.lianjia.com/chengjiao/bujidafen/  四梯二十二户   305  龙岗区   \n",
       "1  https://sz.lianjia.com/chengjiao/bujidafen/  四梯二十二户  暂无数据  龙岗区   \n",
       "2  https://sz.lianjia.com/chengjiao/bujidafen/  四梯二十二户   284  龙岗区   \n",
       "3  https://sz.lianjia.com/chengjiao/bujidafen/  四梯二十二户   295  龙岗区   \n",
       "4  https://sz.lianjia.com/chengjiao/bujidafen/    一梯四户  2049  龙岗区   \n",
       "\n",
       "                                        行政区域url 装修情况 调价次数 配备电梯          链家编号  \n",
       "0  https://sz.lianjia.com/chengjiao/longgangqu/   其他    0    有  105101181103  \n",
       "1  https://sz.lianjia.com/chengjiao/longgangqu/   其他    0    有  105101153657  \n",
       "2  https://sz.lianjia.com/chengjiao/longgangqu/   其他    0    有  105101158301  \n",
       "3  https://sz.lianjia.com/chengjiao/longgangqu/   其他    1    有  105101283981  \n",
       "4  https://sz.lianjia.com/chengjiao/longgangqu/   其他    2    无  105101188483  \n",
       "\n",
       "[5 rows x 36 columns]"
      ]
     },
     "execution_count": 4,
     "metadata": {},
     "output_type": "execute_result"
    }
   ],
   "source": [
    "data.head()"
   ]
  },
  {
   "cell_type": "code",
   "execution_count": 5,
   "metadata": {
    "collapsed": true
   },
   "outputs": [],
   "source": [
    "data.to_csv('szHousePrice.csv',encoding='utf-8')"
   ]
  },
  {
   "cell_type": "code",
   "execution_count": 6,
   "metadata": {
    "collapsed": true
   },
   "outputs": [],
   "source": [
    "df = pd.read_csv('szHousePrice.csv',low_memory=False,index_col=0)"
   ]
  },
  {
   "cell_type": "code",
   "execution_count": 7,
   "metadata": {},
   "outputs": [
    {
     "data": {
      "text/plain": [
       "(17637, 36)"
      ]
     },
     "execution_count": 7,
     "metadata": {},
     "output_type": "execute_result"
    }
   ],
   "source": [
    "data.shape"
   ]
  },
  {
   "cell_type": "code",
   "execution_count": 11,
   "metadata": {},
   "outputs": [
    {
     "data": {
      "text/plain": [
       "Index(['_id', 'url', '交易权属', '供暖方式', '关注人数', '套内面积', '小区', '小区编号', '带看次数',\n",
       "       '建筑年代', '建筑类型', '建筑结构', '建筑面积', '成交周期', '成交均价', '成交总价', '成交时间', '户型结构',\n",
       "       '房屋年限', '房屋户型', '房屋朝向', '房屋用途', '房权所属', '所在楼层', '挂牌价', '挂牌时间', '板块',\n",
       "       '板块url', '梯户比例', '浏览次数', '行政区域', '行政区域url', '装修情况', '调价次数', '配备电梯',\n",
       "       '链家编号'],\n",
       "      dtype='object')"
      ]
     },
     "execution_count": 11,
     "metadata": {},
     "output_type": "execute_result"
    }
   ],
   "source": [
    "data.columns"
   ]
  },
  {
   "cell_type": "code",
   "execution_count": 8,
   "metadata": {
    "collapsed": true
   },
   "outputs": [],
   "source": [
    "df1 = data.loc[:,[\"成交时间\",\"成交均价\"]]"
   ]
  },
  {
   "cell_type": "code",
   "execution_count": 10,
   "metadata": {},
   "outputs": [
    {
     "data": {
      "text/html": [
       "<div>\n",
       "<style>\n",
       "    .dataframe thead tr:only-child th {\n",
       "        text-align: right;\n",
       "    }\n",
       "\n",
       "    .dataframe thead th {\n",
       "        text-align: left;\n",
       "    }\n",
       "\n",
       "    .dataframe tbody tr th {\n",
       "        vertical-align: top;\n",
       "    }\n",
       "</style>\n",
       "<table border=\"1\" class=\"dataframe\">\n",
       "  <thead>\n",
       "    <tr style=\"text-align: right;\">\n",
       "      <th></th>\n",
       "      <th>成交时间</th>\n",
       "      <th>成交均价</th>\n",
       "    </tr>\n",
       "  </thead>\n",
       "  <tbody>\n",
       "    <tr>\n",
       "      <th>0</th>\n",
       "      <td>2018.01.25</td>\n",
       "      <td>32749</td>\n",
       "    </tr>\n",
       "    <tr>\n",
       "      <th>1</th>\n",
       "      <td>2018.01.10</td>\n",
       "      <td>31306</td>\n",
       "    </tr>\n",
       "    <tr>\n",
       "      <th>2</th>\n",
       "      <td>2018.01.06</td>\n",
       "      <td>29051</td>\n",
       "    </tr>\n",
       "    <tr>\n",
       "      <th>3</th>\n",
       "      <td>2018.04.17</td>\n",
       "      <td>34192</td>\n",
       "    </tr>\n",
       "    <tr>\n",
       "      <th>4</th>\n",
       "      <td>2018.05.14</td>\n",
       "      <td>28252</td>\n",
       "    </tr>\n",
       "  </tbody>\n",
       "</table>\n",
       "</div>"
      ],
      "text/plain": [
       "         成交时间   成交均价\n",
       "0  2018.01.25  32749\n",
       "1  2018.01.10  31306\n",
       "2  2018.01.06  29051\n",
       "3  2018.04.17  34192\n",
       "4  2018.05.14  28252"
      ]
     },
     "execution_count": 10,
     "metadata": {},
     "output_type": "execute_result"
    }
   ],
   "source": [
    "df1.head()"
   ]
  },
  {
   "cell_type": "code",
   "execution_count": 11,
   "metadata": {
    "collapsed": true
   },
   "outputs": [],
   "source": [
    "df1.sort_values(by=\"成交时间\",inplace=True)"
   ]
  },
  {
   "cell_type": "code",
   "execution_count": 15,
   "metadata": {},
   "outputs": [
    {
     "data": {
      "text/plain": [
       "array(['2015.08.18', '2015.08.18', '2015.08.19', ..., '2018.06.01',\n",
       "       '2018.06.01', '2018.06.01'], dtype=object)"
      ]
     },
     "execution_count": 15,
     "metadata": {},
     "output_type": "execute_result"
    }
   ],
   "source": [
    "df1[\"成交时间\"].values"
   ]
  },
  {
   "cell_type": "code",
   "execution_count": 16,
   "metadata": {
    "collapsed": true
   },
   "outputs": [],
   "source": [
    "df1[\"成交均价\"] = df1[\"成交均价\"].astype(\"int32\")"
   ]
  },
  {
   "cell_type": "code",
   "execution_count": 17,
   "metadata": {},
   "outputs": [
    {
     "data": {
      "text/html": [
       "<div>\n",
       "<style>\n",
       "    .dataframe thead tr:only-child th {\n",
       "        text-align: right;\n",
       "    }\n",
       "\n",
       "    .dataframe thead th {\n",
       "        text-align: left;\n",
       "    }\n",
       "\n",
       "    .dataframe tbody tr th {\n",
       "        vertical-align: top;\n",
       "    }\n",
       "</style>\n",
       "<table border=\"1\" class=\"dataframe\">\n",
       "  <thead>\n",
       "    <tr style=\"text-align: right;\">\n",
       "      <th></th>\n",
       "      <th>成交均价</th>\n",
       "    </tr>\n",
       "    <tr>\n",
       "      <th>成交时间</th>\n",
       "      <th></th>\n",
       "    </tr>\n",
       "  </thead>\n",
       "  <tbody>\n",
       "    <tr>\n",
       "      <th>2015.08.18</th>\n",
       "      <td>37490.000000</td>\n",
       "    </tr>\n",
       "    <tr>\n",
       "      <th>2015.08.19</th>\n",
       "      <td>59096.500000</td>\n",
       "    </tr>\n",
       "    <tr>\n",
       "      <th>2015.08.20</th>\n",
       "      <td>41171.750000</td>\n",
       "    </tr>\n",
       "    <tr>\n",
       "      <th>2015.08.21</th>\n",
       "      <td>31528.666667</td>\n",
       "    </tr>\n",
       "    <tr>\n",
       "      <th>2015.08.22</th>\n",
       "      <td>18403.000000</td>\n",
       "    </tr>\n",
       "  </tbody>\n",
       "</table>\n",
       "</div>"
      ],
      "text/plain": [
       "                    成交均价\n",
       "成交时间                    \n",
       "2015.08.18  37490.000000\n",
       "2015.08.19  59096.500000\n",
       "2015.08.20  41171.750000\n",
       "2015.08.21  31528.666667\n",
       "2015.08.22  18403.000000"
      ]
     },
     "execution_count": 17,
     "metadata": {},
     "output_type": "execute_result"
    }
   ],
   "source": [
    "price = df1.groupby(\"成交时间\").mean()\n",
    "price.head()"
   ]
  },
  {
   "cell_type": "code",
   "execution_count": 18,
   "metadata": {},
   "outputs": [],
   "source": [
    "price.values.tolist()\n",
    "price.index = pd.to_datetime(price.index)"
   ]
  },
  {
   "cell_type": "code",
   "execution_count": 19,
   "metadata": {},
   "outputs": [
    {
     "data": {
      "text/plain": [
       "DatetimeIndex(['2015-08-18', '2015-08-19', '2015-08-20', '2015-08-21',\n",
       "               '2015-08-22', '2015-08-23', '2015-08-24', '2015-08-25',\n",
       "               '2015-08-26', '2015-08-27',\n",
       "               ...\n",
       "               '2018-05-23', '2018-05-24', '2018-05-25', '2018-05-26',\n",
       "               '2018-05-27', '2018-05-28', '2018-05-29', '2018-05-30',\n",
       "               '2018-05-31', '2018-06-01'],\n",
       "              dtype='datetime64[ns]', name='成交时间', length=988, freq=None)"
      ]
     },
     "execution_count": 19,
     "metadata": {},
     "output_type": "execute_result"
    }
   ],
   "source": [
    "price.index"
   ]
  },
  {
   "cell_type": "code",
   "execution_count": 20,
   "metadata": {
    "collapsed": true
   },
   "outputs": [],
   "source": [
    "price[\"成交均价\"] = price[\"成交均价\"].apply(lambda x : int(x))"
   ]
  },
  {
   "cell_type": "code",
   "execution_count": 21,
   "metadata": {
    "collapsed": true
   },
   "outputs": [],
   "source": [
    "price = price.resample(\"2W\").mean()"
   ]
  },
  {
   "cell_type": "code",
   "execution_count": 27,
   "metadata": {
    "collapsed": true
   },
   "outputs": [],
   "source": [
    "from pyecharts import Line\n",
    "attr = price.index\n",
    "v = price[\"成交均价\"].values.tolist()\n",
    "line = Line(\"折线图示例\")\n",
    "line.add(\"深圳房价走势\", attr, v, is_smooth=True, mark_line=[\"min\",\"max\", \"average\"])\n",
    "line.render('fangjia.html')"
   ]
  },
  {
   "cell_type": "code",
   "execution_count": 28,
   "metadata": {},
   "outputs": [
    {
     "data": {
      "image/png": "[encoded data removed]",
      "text/plain": [
       "<matplotlib.figure.Figure at 0x16ca79ad7f0>"
      ]
     },
     "metadata": {},
     "output_type": "display_data"
    }
   ],
   "source": [
    "plt.rcParams['font.sans-serif'] = ['FangSong'] # 指定默认字体\n",
    "plt.figure(figsize=(20,10))\n",
    "plt.plot(price)\n",
    "plt.xlabel(\"时间\",fontsize=20)\n",
    "plt.ylabel(\"房价\",fontsize=20)\n",
    "plt.grid()"
   ]
  }
 ],
 "metadata": {
  "kernelspec": {
   "display_name": "Python 3",
   "language": "python",
   "name": "python3"
  },
  "language_info": {
   "codemirror_mode": {
    "name": "ipython",
    "version": 3
   },
   "file_extension": ".py",
   "mimetype": "text/x-python",
   "name": "python",
   "nbconvert_exporter": "python",
   "pygments_lexer": "ipython3",
   "version": "3.6.3"
  }
 },
 "nbformat": 4,
 "nbformat_minor": 2
}
